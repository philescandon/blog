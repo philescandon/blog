{
  "nbformat": 4,
  "nbformat_minor": 0,
  "metadata": {
    "colab": {
      "name": "2020-12-27-nbdev.ipynb",
      "provenance": [],
      "authorship_tag": "ABX9TyOJdUcaw2zsUFsw9V0blF2s",
      "include_colab_link": true
    },
    "kernelspec": {
      "name": "python3",
      "display_name": "Python 3"
    }
  },
  "cells": [
    {
      "cell_type": "markdown",
      "metadata": {
        "id": "view-in-github",
        "colab_type": "text"
      },
      "source": [
        "<a href=\"https://colab.research.google.com/github/philescandon/blog/blob/master/_notebooks/2020-12-27-nbdev.ipynb\" target=\"_parent\"><img src=\"https://colab.research.google.com/assets/colab-badge.svg\" alt=\"Open In Colab\"/></a>"
      ]
    },
    {
      "cell_type": "markdown",
      "metadata": {
        "id": "3k_p-GAH8PWz"
      },
      "source": [
        "# Nbdev setup Blog Post\r\n",
        "> Initial setup for Nbdev\r\n",
        "\r\n",
        "- toc: true \r\n",
        "- badges: true\r\n",
        "- comments: true\r\n",
        "- categories: [jupyter]\r\n",
        "- image: images/chart-preview.png"
      ]
    },
    {
      "cell_type": "markdown",
      "metadata": {
        "id": "a1yTm4r281eh"
      },
      "source": [
        "## Interest\r\n",
        "I listened to a couple of podcasts that spoke about [Nbdev](https://nbdev.fast.ai/#Installing) and it piqued my interest.  As I have started going through my fastai book and absorbing as much as I can - I listened to the enumeration of gripes and shortfalls of using jupyter notebooks with git and how to create working modules - all from the jupyter notebook environment.  I went through the documentation and was quickly stuck.  "
      ]
    },
    {
      "cell_type": "markdown",
      "metadata": {
        "id": "CkPE9AZC_f_r"
      },
      "source": [
        "## What I did\r\n",
        "I read slowly.<br>\r\n",
        "I always have issues with installation instructions - Usually the issue is that I'm not clear *where* I should complete a command.  Am I to install on my laptop environment?  Is this command to be run from a python terminal?  The jupyter notebook terminal?  Do I clone the repo first?\r\n",
        "\r\n",
        "I followed the instructions from the above site.\r\n",
        "My initial problem was installing the git hooks.  My command wouldn't run.\r\n",
        "The nbdev_install_git_hooks.exe was not on my system.  Obviously... my installation of nbdev was not complete.  So I gave up for a day and simply read and tried to figure out what exactly I was doing, where I should do it and when I should do it.\r\n",
        "\r\n",
        "## Laptop\r\n",
        "\r\n",
        "\r\n",
        "*   Install GIT and GIT Desktop on my windows 10 laptop\r\n",
        "*   Install Nbdev on my laptop.  You must be able to call 'nbdev_install_git_hooks' or 'nbdev_test_nbs' from the command line.  If you can't - you didn't install correctly. \r\n",
        "\r\n",
        "## Github\r\n",
        "I created my first test repo called 'dbTest'.  I declared it a new repository from a template (fastai/nbdev_template).\r\n",
        "After I created the repository, I modified all of the required files as per the instructions and modified the correct settings for the repository.\r\n",
        "<Fill in details here>\r\n",
        " \r\n",
        "\r\n",
        "\r\n"
      ]
    },
    {
      "cell_type": "markdown",
      "metadata": {
        "id": "jhRUj8_8Nv42"
      },
      "source": [
        "## Clone your modified template repo to your local machine.\r\n",
        "Now that you have your repo locally, open a jupyter notebook in the repository directory and modify the 00*.pynb (or create a new notebook) and add functions to your notebook.  "
      ]
    },
    {
      "cell_type": "markdown",
      "metadata": {
        "id": "s57gNyTWSyTh"
      },
      "source": [
        "## Open a terminal from your jupyter notebook.\r\n",
        "\r\n",
        "From this terminal - go to your cloned repo directory.  From here, run your Nbdev tools:<br>\r\n",
        "\r\n",
        "Nbdev_install_git_hooks <br>\r\n",
        "nbdev_build_lib <br>\r\n",
        "nbdevl build_docs <br>\r\n"
      ]
    },
    {
      "cell_type": "markdown",
      "metadata": {
        "id": "v6yTcKjzTuUw"
      },
      "source": [
        "## Commit to github\r\n",
        "Now you need to add all of your moodified files <br>\r\n",
        "git add -A<br>\r\n",
        "Commit the files<br>\r\n",
        "git commit -a<br>\r\n",
        "Push your files to github<br>\r\n",
        "git push\r\n"
      ]
    },
    {
      "cell_type": "markdown",
      "metadata": {
        "id": "aosz2kdVUajE"
      },
      "source": [
        "## Details... more details\r\n",
        "I will try to make one more test repository and go through the steps.  After a second test repo, I will actually try to use nbdev with all of the documentation hooks and extras.  Very cool.\r\n"
      ]
    },
    {
      "cell_type": "code",
      "metadata": {
        "id": "gOoI3AwbVeNI"
      },
      "source": [
        ""
      ],
      "execution_count": null,
      "outputs": []
    }
  ]
}