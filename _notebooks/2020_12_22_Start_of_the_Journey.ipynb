{
  "nbformat": 4,
  "nbformat_minor": 0,
  "metadata": {
    "colab": {
      "name": "2020-12-22-Start-of-the-Journey.ipynb",
      "provenance": [],
      "collapsed_sections": [],
      "authorship_tag": "ABX9TyOgwS0IOM7zK7aDT02yk/jd",
      "include_colab_link": true
    },
    "kernelspec": {
      "name": "python3",
      "display_name": "Python 3"
    }
  },
  "cells": [
    {
      "cell_type": "markdown",
      "metadata": {
        "id": "view-in-github",
        "colab_type": "text"
      },
      "source": [
        "<a href=\"https://colab.research.google.com/github/philescandon/blog/blob/master/_notebooks/2020_12_22_Start_of_the_Journey.ipynb\" target=\"_parent\"><img src=\"https://colab.research.google.com/assets/colab-badge.svg\" alt=\"Open In Colab\"/></a>"
      ]
    },
    {
      "cell_type": "markdown",
      "metadata": {
        "id": "djv7DrINtcUP"
      },
      "source": [
        "# Start of my AI Journey\r\n",
        "> A tutorial of fastpages for Jupyter notebooks.\r\n",
        "\r\n",
        "- toc: true \r\n",
        "- badges: true\r\n",
        "- comments: true\r\n",
        "- categories: [jupyter]\r\n",
        "- image: images/chart-preview.png"
      ]
    },
    {
      "cell_type": "markdown",
      "metadata": {
        "id": "iqpF0VJJiZys"
      },
      "source": [
        "First post about my journey.  \r\n",
        "\r\n",
        "It's about time I've put some effort into learning Artificial Intelligence, Machine Learning ,Deep Learning and all the other buzzwords.\r\n",
        "\r\n",
        "I ran across fastai while researching news bots, and listening to a podcast about python and journalism.  Very interesting I must say.\r\n",
        "My background?\r\n",
        "Integration and test of camera systems used on fighter jets.  I collect data and use matlab to read in that data and plot it.   Collect test data, plot test data and gather the results.  \r\n",
        "\r\n",
        "You still have to figure out why components fail.\r\n",
        "\r\n",
        "I rewrote my matlab code into python, like the results then started using Jupyter.  Now I've found fastai.\r\n",
        "\r\n",
        "How do I plan on using it?  \r\n",
        "I don't know yet.  \r\n",
        "The computer vision models and using it identification of objects in images are surely used somewhere in my company, but that's not my current domain.\r\n",
        "\r\n",
        "I do have loads and loads of log files.  More than I could ever read.  This would be an opportunity for using machine learning.\r\n",
        "\r\n",
        "But to what end?  \r\n",
        "To tell me if a system failed a starting test 4 years ago? This is not a problem to be solved.\r\n",
        "\r\n",
        "But a full log file with mission information from a current customer?\r\n",
        "A model that can quickly deduce what happened when it happened and what was successful and what failed?\r\n",
        "\r\n",
        "Here there is a possible use case!\r\n"
      ]
    },
    {
      "cell_type": "code",
      "metadata": {
        "id": "FflDIfrQh-wQ"
      },
      "source": [
        "![](https://upload.wikimedia.org/wikipedia/commons/7/71/ChessPawnSpecialMoves.gif)\r\n",
        "\r\n"
      ],
      "execution_count": null,
      "outputs": []
    },
    {
      "cell_type": "code",
      "metadata": {
        "id": "oK36h6KziAOr"
      },
      "source": [
        "> Note: A doc link to [an example website: fast.ai](https://www.fast.ai/) should also work fine."
      ],
      "execution_count": null,
      "outputs": []
    },
    {
      "cell_type": "code",
      "metadata": {
        "id": "R9ztC0a_iV7m"
      },
      "source": [
        ""
      ],
      "execution_count": null,
      "outputs": []
    }
  ]
}