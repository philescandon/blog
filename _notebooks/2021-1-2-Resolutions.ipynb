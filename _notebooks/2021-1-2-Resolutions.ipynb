{
  "nbformat": 4,
  "nbformat_minor": 0,
  "metadata": {
    "colab": {
      "name": "2021-1-2-Resolutions.ipynb",
      "provenance": [],
      "authorship_tag": "ABX9TyNxr4lhYYiP3zQ5aEvpcOsX",
      "include_colab_link": true
    },
    "kernelspec": {
      "name": "python3",
      "display_name": "Python 3"
    }
  },
  "cells": [
    {
      "cell_type": "markdown",
      "metadata": {
        "id": "view-in-github",
        "colab_type": "text"
      },
      "source": [
        "<a href=\"https://colab.research.google.com/github/philescandon/blog/blob/master/_notebooks/2021-1-2-Resolutions.ipynb\" target=\"_parent\"><img src=\"https://colab.research.google.com/assets/colab-badge.svg\" alt=\"Open In Colab\"/></a>"
      ]
    },
    {
      "cell_type": "markdown",
      "metadata": {
        "id": "3k_p-GAH8PWz"
      },
      "source": [
        "# Resolutions for 2021!\r\n",
        "> My self improvement projects for 2021!\r\n",
        "\r\n",
        "- toc: true \r\n",
        "- badges: true\r\n",
        "- comments: true\r\n",
        "- categories: [jupyter,nbdev]\r\n",
        "- image: images/RESOLUTIONS_MOUNTAIN.gif"
      ]
    },
    {
      "cell_type": "markdown",
      "metadata": {
        "id": "a1yTm4r281eh"
      },
      "source": [
        "## 1. Clean up my git repos!\r\n",
        "What a mess.\r\n",
        "\r\n",
        "It's embarrassing really.  Your git repo is something like your linkedin profile."
      ]
    },
    {
      "cell_type": "markdown",
      "metadata": {
        "id": "CkPE9AZC_f_r"
      },
      "source": [
        "## 2. BU Masters Program - Get as much done as possible !!\r\n",
        "I took the last session off - just didn't want to be burdened during the christmas season.  Time to refocus and start again.\r\n",
        "\r\n",
        "\r\n",
        " \r\n",
        "\r\n",
        "\r\n"
      ]
    },
    {
      "cell_type": "markdown",
      "metadata": {
        "id": "jhRUj8_8Nv42"
      },
      "source": [
        "## 3. Data Science - Machine Learning with fastai.\r\n",
        "Machine learning AND cool python tips and tricks!  So much fun.\r\n",
        "Finish the book.  I've been playing with the MNIST code for two weeks...so it's going to take a bit of time."
      ]
    },
    {
      "cell_type": "markdown",
      "metadata": {
        "id": "s57gNyTWSyTh"
      },
      "source": [
        "## 4. Tennis\r\n",
        "Need to be a 4.0 player this year.\r\n",
        "Forehand, backhand, serve, mental game.  The whole nine yards."
      ]
    },
    {
      "cell_type": "markdown",
      "metadata": {
        "id": "v6yTcKjzTuUw"
      },
      "source": [
        "## 5. Jupyter Notebook development\r\n",
        "All python code has to be documented.  All of it should display a level of professionalism - it should convey that this craft is taken seriously.\r\n",
        "\r\n",
        "If it's play code - it shouldn't be on github.  At least for me.\r\n",
        "\r\n",
        "See #1\r\n"
      ]
    },
    {
      "cell_type": "markdown",
      "metadata": {
        "id": "aosz2kdVUajE"
      },
      "source": [
        "## 6.  Hunt Elk in Colorado ... again.\r\n",
        "Because of my last dismal experience, I want to go again and make up for last years experience.  \r\n"
      ]
    },
    {
      "cell_type": "code",
      "metadata": {
        "id": "gOoI3AwbVeNI"
      },
      "source": [
        ""
      ],
      "execution_count": null,
      "outputs": []
    }
  ]
}