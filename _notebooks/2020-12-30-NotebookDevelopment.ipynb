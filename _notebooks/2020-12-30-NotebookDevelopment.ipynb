{
  "nbformat": 4,
  "nbformat_minor": 0,
  "metadata": {
    "colab": {
      "name": "2020-12-30Nbdev-Setup.ipynb",
      "provenance": [],
      "authorship_tag": "ABX9TyM1wKPzfKwGTtIuTOxKsfKa",
      "include_colab_link": true
    },
    "kernelspec": {
      "name": "python3",
      "display_name": "Python 3"
    }
  },
  "cells": [
    {
      "cell_type": "markdown",
      "metadata": {
        "id": "view-in-github",
        "colab_type": "text"
      },
      "source": [
        "<a href=\"https://colab.research.google.com/github/philescandon/blog/blob/master/_notebooks/2020_12_30Nbdev_Setup.ipynb\" target=\"_parent\"><img src=\"https://colab.research.google.com/assets/colab-badge.svg\" alt=\"Open In Colab\"/></a>"
      ]
    },
    {
      "cell_type": "markdown",
      "metadata": {
        "id": "3k_p-GAH8PWz"
      },
      "source": [
        "# Nbdev Setup 2\r\n",
        "> Second setup try for Nbdev\r\n",
        "\r\n",
        "- toc: true \r\n",
        "- badges: true\r\n",
        "- comments: true\r\n",
        "- categories: [jupyter]\r\n",
        "- image: images/chart-preview.png"
      ]
    },
    {
      "cell_type": "markdown",
      "metadata": {
        "id": "a1yTm4r281eh"
      },
      "source": [
        "## Interest\r\n",
        "I created a few play repos in github to try out the nbdev environment.  \r\n",
        "\r\n",
        "Nbdev is an environment used by the fastai team to create python modules (and books) as well as tests and documentation all from the Jupyter notebook!  \r\n",
        "\r\n",
        "I've been looking for something like this for a long long time.  There have always been problems with the notebook environment being portrayed as a toy or only for exploration.  When you had a finished product you were suppossed to move to a proper IDE and place your code in GIT.\r\n",
        "\r\n"
      ]
    },
    {
      "cell_type": "markdown",
      "metadata": {
        "id": "CkPE9AZC_f_r"
      },
      "source": [
        "## What I did\r\n",
        "\r\n",
        "\r\n",
        "1.   Log in to Github.\r\n",
        "2.   Create your repo using the [fastai template](https://github.com/fastai/nbdev_template/generate). \r\n",
        "\r\n",
        "Now you have a github repo.  I called mine 'test2'\r\n",
        "\r\n"
      ]
    },
    {
      "cell_type": "markdown",
      "metadata": {
        "id": "Mvv18X8ioygf"
      },
      "source": [
        "\r\n",
        "Next I launched Jupyter Notebook on my laptop.  I navigated to the directory where I keep all of my python notebooks.  I keep all of my work under my \r\n",
        "**'work//tools//python'** folder.\r\n",
        "I opened a terminal from my jupyter homepage.  Changed to my working directory - and cloned my 'test2' repo onto my local machine.\r\n",
        "\r\n",
        "3. Clone your repo to your local machine.<br>\r\n",
        "I used `gh repo clone <github_username>/Test2` from my terminal command line.\r\n",
        "\r\n"
      ]
    },
    {
      "cell_type": "markdown",
      "metadata": {
        "id": "pZW4yrMcpb12"
      },
      "source": [
        "\r\n",
        "I could quickly see my issues and the mess of having notebooks in one folder.  There are some template notebooks, some actual work reports, some analysis, some unnamed notebooks.  It's a mess.\r\n",
        "\r\n",
        "With my new cloned repo, everything is in one nice folder.\r\n",
        "\r\n",
        "I could now navigate to the new folder from the Jupyter Notebook Web UI. "
      ]
    },
    {
      "cell_type": "markdown",
      "metadata": {
        "id": "zwrkTKoupbnJ"
      },
      "source": [
        "\r\n",
        "4. Modify `settings.ini` \r\n",
        "\r\n",
        "Uncomment (remove the #) and change the username, author, lib_name, copyright, keywords and so on at the top of the file. Save it.\r\n"
      ]
    },
    {
      "cell_type": "markdown",
      "metadata": {
        "id": "GVwDuWvZpb73"
      },
      "source": [
        "\r\n",
        "5. Modify `00-core.ipynb`.\r\n",
        "\r\n",
        "Open and fill in appropriate names and comments.  \r\n",
        "\r\n",
        "Add a few functions with documentation. Execute them - make sure they work\r\n",
        "\r\n",
        "Make sure the use the #export tag at the top of the code cell.\r\n"
      ]
    },
    {
      "cell_type": "markdown",
      "metadata": {
        "id": "6VQjdWZ0pcD5"
      },
      "source": [
        "\r\n",
        "6. Modify `index.ipynb`\r\n",
        "\r\n",
        "Change the names appropriately.  \r\n",
        "Call the functions that you created in `00-core` - make sure they are working.\r\n"
      ]
    },
    {
      "cell_type": "markdown",
      "metadata": {
        "id": "vCPSg2Z9pcHO"
      },
      "source": [
        "\r\n",
        "7.  Run your Nbdev tools from the terminal window\r\n",
        "\r\n",
        "From your Jupyter Notebook terminal window run the following:\r\n",
        "\r\n",
        "`nbdev_install_git_hooks` - you should only have to run this one time when your repo is cloned to your local machine.\r\n",
        "\r\n",
        "`nbdev_build_lib` - builds your library as per your name in settings.ini.\r\n",
        "\r\n",
        "`nbdev_build_docs` - builds your documentation\r\n",
        "\r\n",
        "and I also run a final check: \r\n",
        "\r\n",
        "`nbdev_test_nbs` - tests your notebooks on your local machine.\r\n",
        "\r\n",
        "If you get any errors -read carefully - it will tell you what is amiss.\r\n",
        "Maybe your library didn't build and you can't call your function.  Maybe you didn't uncomment 'copyright' in the settings file.  These things will make your build fail.\r\n",
        "\r\n",
        "Next if everything passes - push it up to github.\r\n",
        "\r\n",
        "From the jupyter terminal window:\r\n",
        "\r\n",
        "`git status`\r\n",
        "\r\n",
        "` git commit -a -m 'Initial mods for my library'`\r\n",
        "\r\n",
        "`git push`\r\n",
        "\r\n",
        "I am prompted for my git username and git password and then my repo is updated.\r\n",
        "\r\n",
        "If I go to my github repo, I can see my changes.\r\n",
        "\r\n",
        "\r\n",
        "\r\n"
      ]
    },
    {
      "cell_type": "markdown",
      "metadata": {
        "id": "jLw-nxQ5z8Oc"
      },
      "source": [
        "\r\n",
        "\r\n",
        "---\r\n",
        "\r\n",
        "---\r\n",
        "\r\n",
        "\r\n",
        "\r\n"
      ]
    },
    {
      "cell_type": "markdown",
      "metadata": {
        "id": "tG4JXu8oziGM"
      },
      "source": [
        "Next I will work on some documentation and tests."
      ]
    },
    {
      "cell_type": "code",
      "metadata": {
        "id": "NJ5Nc66uz3lG"
      },
      "source": [
        ""
      ],
      "execution_count": null,
      "outputs": []
    }
  ]
}
