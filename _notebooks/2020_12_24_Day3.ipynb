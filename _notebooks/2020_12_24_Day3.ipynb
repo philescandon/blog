{
  "nbformat": 4,
  "nbformat_minor": 0,
  "metadata": {
    "colab": {
      "name": "2020-12-24-Day3.ipynb",
      "provenance": [],
      "collapsed_sections": [],
      "authorship_tag": "ABX9TyMLK5fHawrGr4HVovF1DQxN",
      "include_colab_link": true
    },
    "kernelspec": {
      "name": "python3",
      "display_name": "Python 3"
    }
  },
  "cells": [
    {
      "cell_type": "markdown",
      "metadata": {
        "id": "view-in-github",
        "colab_type": "text"
      },
      "source": [
        "<a href=\"https://colab.research.google.com/github/philescandon/blog/blob/master/_notebooks/2020_12_24_Day3.ipynb\" target=\"_parent\"><img src=\"https://colab.research.google.com/assets/colab-badge.svg\" alt=\"Open In Colab\"/></a>"
      ]
    },
    {
      "cell_type": "markdown",
      "metadata": {
        "id": "djv7DrINtcUP"
      },
      "source": [
        "# The holes are bigger than expected\r\n",
        "> Deep Learning for Coders with fastai and PyTorch\r\n",
        "\r\n",
        "- toc: true \r\n",
        "- badges: true\r\n",
        "- comments: true\r\n",
        "- categories: [fastai]\r\n",
        "- image: images/chart-preview.png"
      ]
    },
    {
      "cell_type": "markdown",
      "metadata": {
        "id": "iqpF0VJJiZys"
      },
      "source": [
        "## Completed Video 1  \r\n",
        "\r\n",
        "I completed the first video and purchased the book. I couldn't complete the binder section of the first lesson.  I installed voila and posted my notebook to my github but couldn't get the notebook to post in binder.  I tried for a bit to get it working - but some of these items are rabbit holes for me - I could easily spend the afternoon trying to get binder, voila and github to play nice, but I'm trying to learn about neural networks not deploying to binder.\r\n",
        "\r\n",
        "### Important parts\r\n",
        "The important parts were completed.  I did try to expand on the model - by creating model that could distinguish a meteor in the night sky.  After I collected many images of the night sky as well as meteors - all i can say is that Bing Image Search is crap.  My initial model was crap mainly because the data was crap. But after a lot of cleaning, deleting, relabeling the experimenting I could only get the model to an accuracy of about 70%.  Not good.\r\n",
        "I didn't know what else I could to ... but I know it wasn't ideal.  It doesn't seem trivial to correct a model once it's gone off the rails.\r\n",
        "\r\n",
        "## Video 2 \r\n",
        "I began the second video and stopped several times to review material.  I finally just watched the entire thing and decided to watch it again, slowly and deliberately.  The material..is serious.  You are not going to simply watch some videos and voila.. your a PyTorch expert.  Learning your way around the fastai API and finding the documentation, forums, etc. does take some exploring time, but it's fun when you have a destination and goal in mind.  I can see what I need. \r\n",
        "\r\n",
        "I'm going to take a little more time with this video and make sure to do the questions at the end of the chapters and learn the jargon and items pointed out during the notebook and video.\r\n",
        "\r\n",
        "Slow going, but I think it's important.\r\n",
        "\r\n"
      ]
    },
    {
      "cell_type": "code",
      "metadata": {
        "id": "FflDIfrQh-wQ"
      },
      "source": [
        "![](https://upload.wikimedia.org/wikipedia/commons/7/71/ChessPawnSpecialMoves.gif)\r\n",
        "\r\n"
      ],
      "execution_count": null,
      "outputs": []
    },
    {
      "cell_type": "code",
      "metadata": {
        "id": "oK36h6KziAOr"
      },
      "source": [
        "> Note: A doc link to [an example website: fast.ai](https://www.fast.ai/) should also work fine."
      ],
      "execution_count": null,
      "outputs": []
    },
    {
      "cell_type": "code",
      "metadata": {
        "id": "R9ztC0a_iV7m"
      },
      "source": [
        ""
      ],
      "execution_count": null,
      "outputs": []
    }
  ]
}